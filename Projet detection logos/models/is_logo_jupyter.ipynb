{
 "cells": [
  {
   "cell_type": "code",
   "execution_count": 17,
   "id": "dea144d1",
   "metadata": {},
   "outputs": [],
   "source": [
    "import cv2\n",
    "import os\n",
    "import numpy as np\n",
    "from sklearn.svm import SVC\n",
    "from sklearn.model_selection import train_test_split\n",
    "from sklearn.model_selection import GridSearchCV\n",
    "from sklearn.metrics import classification_report, accuracy_score\n",
    "from skimage.feature import hog"
   ]
  },
  {
   "cell_type": "code",
   "execution_count": 18,
   "id": "8d309926",
   "metadata": {},
   "outputs": [],
   "source": [
    "# 1) load data\n",
    "image_dir_1 = \"../class_inconue\"\n",
    "image_dir_2 = \"../logos\"\n",
    "\n",
    "images = []\n",
    "labels = []\n",
    "\n",
    "def read_data(images_dir , category ):\n",
    "    global images,labels\n",
    "    for filename in os.listdir(images_dir):\n",
    "        if filename.endswith(\".jpg\"):\n",
    "            img = cv2.imread(os.path.join(images_dir, filename))\n",
    "            label = category  # label est le nom de la marque de la voiture\n",
    "            images.append(img)\n",
    "            labels.append(label)\n",
    "\n",
    "\n",
    "read_data(image_dir_1 , 0 )\n",
    "read_data(image_dir_2 , 1 )\n"
   ]
  },
  {
   "cell_type": "code",
   "execution_count": 19,
   "id": "4e58298c",
   "metadata": {},
   "outputs": [],
   "source": [
    "# 2. Prétraitement des images\n",
    "gray_images = []\n",
    "\n",
    "for img in images:\n",
    "    resized_img = cv2.resize(img, (128, 128))\n",
    "    gray = cv2.cvtColor(resized_img, cv2.COLOR_BGR2GRAY)\n",
    "    #new_vect_img = np.array(gray).flatten()\n",
    "    gray_images.append(gray)"
   ]
  },
  {
   "cell_type": "code",
   "execution_count": 20,
   "id": "3bd8a42c",
   "metadata": {},
   "outputs": [
    {
     "data": {
      "text/plain": [
       "8100"
      ]
     },
     "execution_count": 20,
     "metadata": {},
     "output_type": "execute_result"
    }
   ],
   "source": [
    "# 3. Extraction de fonctionnalités HOG\n",
    "features = []\n",
    "for img in gray_images:\n",
    "    fd, hog_image = hog(img, orientations=9, pixels_per_cell=(8, 8),\n",
    "                        cells_per_block=(2, 2), visualize=True, channel_axis=None)\n",
    "    features.append(fd)\n",
    "    \n",
    "len(features[0])"
   ]
  },
  {
   "cell_type": "code",
   "execution_count": 21,
   "id": "84b79389",
   "metadata": {},
   "outputs": [
    {
     "data": {
      "text/plain": [
       "(3851, 8100)"
      ]
     },
     "execution_count": 21,
     "metadata": {},
     "output_type": "execute_result"
    }
   ],
   "source": [
    "# 4. Construction des vecteurs de caractéristiques\n",
    "X = np.vstack(features)\n",
    "y = labels\n",
    "\n",
    "X.shape"
   ]
  },
  {
   "cell_type": "code",
   "execution_count": 22,
   "id": "630e5fec",
   "metadata": {},
   "outputs": [
    {
     "data": {
      "text/plain": [
       "GridSearchCV(estimator=SVC(),\n",
       "             param_grid=[{'C': [0.001, 0.01, 0.1, 1, 10, 100, 1000],\n",
       "                          'gamma': [0.01, 0.001, 0.002, 0.003, 0.0001],\n",
       "                          'kernel': ['linear']}])"
      ]
     },
     "execution_count": 22,
     "metadata": {},
     "output_type": "execute_result"
    }
   ],
   "source": [
    "# 5. Entraînement du modèle\n",
    "X_train, X_test, y_train, y_test = train_test_split(X, y, test_size=0.2, random_state=42)\n",
    "\n",
    "classifier = SVC()\n",
    "\n",
    "parameters = [{'kernel':['linear'],'gamma':[0.01, 0.001,0.002,0.003, 0.0001],'C':[0.001,0.01,0.1,1,10,100,1000]}]\n",
    "\n",
    "grid_search = GridSearchCV(classifier,parameters)\n",
    "\n",
    "grid_search.fit(X_train, y_train)"
   ]
  },
  {
   "cell_type": "code",
   "execution_count": null,
   "id": "5becd34b",
   "metadata": {},
   "outputs": [],
   "source": []
  },
  {
   "cell_type": "code",
   "execution_count": 24,
   "id": "95d98eb2",
   "metadata": {},
   "outputs": [
    {
     "name": "stdout",
     "output_type": "stream",
     "text": [
      "Meilleurs hyperparamètres : {'C': 0.01, 'gamma': 0.01, 'kernel': 'linear'}\n",
      "Score de validation croisée : 0.9214285714285715\n"
     ]
    }
   ],
   "source": [
    "# Affichage des meilleurs hyperparamètres et du score correspondant\n",
    "print(f\"Meilleurs hyperparamètres : {grid_search.best_params_}\")\n",
    "print(f\"Score de validation croisée : {grid_search.best_score_}\")"
   ]
  },
  {
   "cell_type": "code",
   "execution_count": 25,
   "id": "4294034a",
   "metadata": {},
   "outputs": [],
   "source": [
    "best_estimator = grid_search.best_estimator_"
   ]
  },
  {
   "cell_type": "code",
   "execution_count": 26,
   "id": "61faffe6",
   "metadata": {},
   "outputs": [
    {
     "name": "stdout",
     "output_type": "stream",
     "text": [
      "              precision    recall  f1-score   support\n",
      "\n",
      "           0       0.92      0.99      0.95       536\n",
      "           1       0.96      0.79      0.87       235\n",
      "\n",
      "    accuracy                           0.93       771\n",
      "   macro avg       0.94      0.89      0.91       771\n",
      "weighted avg       0.93      0.93      0.92       771\n",
      "\n",
      "Accuracy: 0.9260700389105059\n"
     ]
    }
   ],
   "source": [
    "# 6. Évaluation du modèle\n",
    "y_pred = best_estimator.predict(X_test)\n",
    "\n",
    "print(classification_report(y_test, y_pred))\n",
    "print(\"Accuracy:\", accuracy_score(y_test, y_pred))"
   ]
  },
  {
   "cell_type": "code",
   "execution_count": 27,
   "id": "3ed2a8e0",
   "metadata": {},
   "outputs": [
    {
     "data": {
      "text/plain": [
       "['model_is_logo.joblib']"
      ]
     },
     "execution_count": 27,
     "metadata": {},
     "output_type": "execute_result"
    }
   ],
   "source": [
    "import joblib\n",
    "\n",
    "joblib.dump(best_estimator,\"model_is_logo.joblib\")"
   ]
  },
  {
   "cell_type": "code",
   "execution_count": 28,
   "id": "feafb6e8",
   "metadata": {},
   "outputs": [],
   "source": [
    "from skimage import exposure\n",
    "\n",
    "def is_logo(best_estimator , img_test_1 ):\n",
    "    \n",
    "    resized_img_test_1 = cv2.resize(img_test_1, (35, 35))\n",
    "    gray_test_1 = cv2.cvtColor(resized_img_test_1, cv2.COLOR_BGR2GRAY)\n",
    "\n",
    "    fd_test_1, hog_image = hog(gray_test_1, orientations=9, pixels_per_cell=(8, 8),\n",
    "                            cells_per_block=(2, 2), visualize=True, channel_axis=None)\n",
    "\n",
    "    fd_test_1 = fd_test_1.reshape(1,-1)\n",
    "\n",
    "    y_pred_1 = best_estimator.predict(fd_test_1)\n",
    "    \n",
    "    if y_pred_1 == 1:\n",
    "        \n",
    "        bfilter = cv2.bilateralFilter(gray_test_1,5,17,17) # noise reduction \n",
    "        edged = cv2.Canny(bfilter,30,200) # Edge detection \n",
    "        \n",
    "        plt.figure(figsize=(12,4))\n",
    "        plt.subplot(131)\n",
    "        plt.imshow(cv2.cvtColor(resized_img_test_1,cv2.COLOR_BGR2RGB))\n",
    "        plt.subplot(132)\n",
    "        hog_image_rescaled = exposure.rescale_intensity(hog_image, in_range=(0, 10))\n",
    "        plt.imshow(hog_image_rescaled,cmap=plt.cm.gray)\n",
    "        plt.subplot(133)\n",
    "        plt.imshow(cv2.cvtColor(edged,cv2.COLOR_BGR2RGB))\n",
    "        \n",
    "    return y_pred_1"
   ]
  },
  {
   "cell_type": "code",
   "execution_count": null,
   "id": "31332457",
   "metadata": {},
   "outputs": [],
   "source": []
  }
 ],
 "metadata": {
  "kernelspec": {
   "display_name": "Python 3 (ipykernel)",
   "language": "python",
   "name": "python3"
  },
  "language_info": {
   "codemirror_mode": {
    "name": "ipython",
    "version": 3
   },
   "file_extension": ".py",
   "mimetype": "text/x-python",
   "name": "python",
   "nbconvert_exporter": "python",
   "pygments_lexer": "ipython3",
   "version": "3.9.12"
  },
  "varInspector": {
   "cols": {
    "lenName": 16,
    "lenType": 16,
    "lenVar": 40
   },
   "kernels_config": {
    "python": {
     "delete_cmd_postfix": "",
     "delete_cmd_prefix": "del ",
     "library": "var_list.py",
     "varRefreshCmd": "print(var_dic_list())"
    },
    "r": {
     "delete_cmd_postfix": ") ",
     "delete_cmd_prefix": "rm(",
     "library": "var_list.r",
     "varRefreshCmd": "cat(var_dic_list()) "
    }
   },
   "types_to_exclude": [
    "module",
    "function",
    "builtin_function_or_method",
    "instance",
    "_Feature"
   ],
   "window_display": false
  }
 },
 "nbformat": 4,
 "nbformat_minor": 5
}
